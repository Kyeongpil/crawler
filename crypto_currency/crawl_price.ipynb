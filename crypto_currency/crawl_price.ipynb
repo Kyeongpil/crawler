{
 "cells": [
  {
   "cell_type": "code",
   "execution_count": 3,
   "metadata": {
    "ExecuteTime": {
     "end_time": "2018-01-07T06:52:07.706748Z",
     "start_time": "2018-01-07T06:52:07.698796Z"
    },
    "collapsed": true
   },
   "outputs": [],
   "source": [
    "import requests\n",
    "from bs4 import BeautifulSoup\n",
    "\n",
    "coins = [\"bitcoin\", \"ethereum\", \"ripple\"]\n",
    "url = \"https://coinmarketcap.com/currencies/%s/historical-data/?start=%s&end=%s\"\n",
    "start_date = \"20130428\"\n",
    "end_date = \"20180107\""
   ]
  },
  {
   "cell_type": "code",
   "execution_count": 4,
   "metadata": {
    "ExecuteTime": {
     "end_time": "2018-01-07T06:52:10.519551Z",
     "start_time": "2018-01-07T06:52:08.207973Z"
    }
   },
   "outputs": [],
   "source": [
    "res = requests.get(url % (coins[0], start_date, end_date))\n",
    "soup = BeautifulSoup(res.text, 'lxml')"
   ]
  },
  {
   "cell_type": "code",
   "execution_count": 10,
   "metadata": {
    "ExecuteTime": {
     "end_time": "2018-01-07T07:02:54.259219Z",
     "start_time": "2018-01-07T07:02:48.201331Z"
    },
    "code_folding": []
   },
   "outputs": [
    {
     "name": "stdout",
     "output_type": "stream",
     "text": [
      "bitcoin\n",
      "ethereum\n",
      "ripple\n"
     ]
    }
   ],
   "source": [
    "for coin in coins:\n",
    "    print(coin)\n",
    "    res = requests.get(url % (coin, start_date, end_date))\n",
    "    soup = BeautifulSoup(res.text, 'lxml')\n",
    "    with open(\"price_%s.tsv\" % coin, 'w') as f:\n",
    "        f.write(\"date\\topen\\thigh\\tlow\\tclose\\tvolume\\tmarket_cap\\n\")\n",
    "        for tr in soup.find(\"tbody\").findAll(\"tr\"):\n",
    "            f.write(\"\\t\".join([td.text for td in tr.findAll(\"td\")]))\n",
    "            f.write(\"\\n\")        "
   ]
  },
  {
   "cell_type": "code",
   "execution_count": null,
   "metadata": {
    "collapsed": true
   },
   "outputs": [],
   "source": []
  }
 ],
 "metadata": {
  "kernelspec": {
   "display_name": "Python 3",
   "language": "python",
   "name": "python3"
  },
  "language_info": {
   "codemirror_mode": {
    "name": "ipython",
    "version": 3
   },
   "file_extension": ".py",
   "mimetype": "text/x-python",
   "name": "python",
   "nbconvert_exporter": "python",
   "pygments_lexer": "ipython3",
   "version": "3.6.4"
  },
  "varInspector": {
   "cols": {
    "lenName": 16,
    "lenType": 16,
    "lenVar": 40
   },
   "kernels_config": {
    "python": {
     "delete_cmd_postfix": "",
     "delete_cmd_prefix": "del ",
     "library": "var_list.py",
     "varRefreshCmd": "print(var_dic_list())"
    },
    "r": {
     "delete_cmd_postfix": ") ",
     "delete_cmd_prefix": "rm(",
     "library": "var_list.r",
     "varRefreshCmd": "cat(var_dic_list()) "
    }
   },
   "types_to_exclude": [
    "module",
    "function",
    "builtin_function_or_method",
    "instance",
    "_Feature"
   ],
   "window_display": false
  }
 },
 "nbformat": 4,
 "nbformat_minor": 2
}
