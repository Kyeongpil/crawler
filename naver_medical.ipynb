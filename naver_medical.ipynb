{
 "cells": [
  {
   "cell_type": "code",
   "execution_count": null,
   "metadata": {
    "ExecuteTime": {
     "end_time": "2017-09-08T05:37:52.250203Z",
     "start_time": "2017-09-08T05:37:52.246686Z"
    },
    "collapsed": true
   },
   "outputs": [],
   "source": [
    "from bs4 import BeautifulSoup\n",
    "import ujson as json\n",
    "import requests"
   ]
  },
  {
   "cell_type": "code",
   "execution_count": null,
   "metadata": {
    "ExecuteTime": {
     "end_time": "2017-09-08T06:17:30.336249Z",
     "start_time": "2017-09-08T06:12:09.229632Z"
    },
    "scrolled": true
   },
   "outputs": [],
   "source": [
    "list_url = \"http://terms.naver.com/list.nhn?cid=51007&page=%d&categoryId=51007\"\n",
    "mobile_root = \"http://m.terms.naver.com\"\n",
    "entries = []\n",
    "\n",
    "page = 1\n",
    "while True:\n",
    "    print(page)\n",
    "    \n",
    "    res = requests.get(list_url%page)\n",
    "    b = BeautifulSoup(res.text, 'lxml')\n",
    "    \n",
    "    current_page = int(b.find('div', {'class': 'paginate'}).find('strong').text)\n",
    "    if page > current_page:\n",
    "        # stop if there is no more pages to crawl\n",
    "        break\n",
    "    \n",
    "    for entry in b.find('ul', {'class': 'content_list'}).findAll('li'):\n",
    "        url = entry.findAll('a')[0]['href']\n",
    "        res = requests.get(mobile_root+url)\n",
    "        b = BeautifulSoup(res.text, 'lxml')\n",
    "        \n",
    "        entry = dict()\n",
    "        title = None\n",
    "\n",
    "        div_content = b.find('div', {'class': '_SLOG_TERMS_CONTENT'})\n",
    "        additional_info = div_content.find('ul', {'class': 'na_property_table2'})\n",
    "        if additional_info is not None:\n",
    "            for li in additional_info.findAll('li'):\n",
    "                entry[li.find('em').text] = li.find('span').text\n",
    "\n",
    "        div_content = div_content.findAll('div', {'class': 'atomic-block'})\n",
    "        title_group = div_content[0].find('div', {'class': 'na_title_group'})\n",
    "        entry['ko_name'] = title_group.find('h1').text\n",
    "        try:\n",
    "            entry['name'] = title_group.find('p').text.replace('\\xa0', ' ')\n",
    "        except:\n",
    "            pass\n",
    "        \n",
    "        abstract = div_content[0].find('div', {'class': 'na_abstract'})\n",
    "        if abstract is not None:\n",
    "            abstract.find('strong').extract()\n",
    "            entry['abstract'] = abstract.text.strip()\n",
    "            \n",
    "        for div in div_content[1:]:\n",
    "            if \"breakable-block\" in div['class']:\n",
    "                entry[title] = div.text.strip()\n",
    "            else:\n",
    "                title = div.findChild()\n",
    "                if 'na_section_title' in title['class']:\n",
    "                    title = div.text\n",
    "                else:\n",
    "                    # picture div\n",
    "                    continue\n",
    "                \n",
    "        entries.append(entry)\n",
    "\n",
    "    page += 1"
   ]
  },
  {
   "cell_type": "code",
   "execution_count": null,
   "metadata": {
    "ExecuteTime": {
     "end_time": "2017-09-08T06:17:43.780636Z",
     "start_time": "2017-09-08T06:17:43.713303Z"
    },
    "collapsed": true
   },
   "outputs": [],
   "source": [
    "with open('result.json', 'w') as f:\n",
    "    json.dump(entries, f)"
   ]
  }
 ],
 "metadata": {
  "kernelspec": {
   "display_name": "Python 3",
   "language": "python",
   "name": "python3"
  },
  "language_info": {
   "codemirror_mode": {
    "name": "ipython",
    "version": 3
   },
   "file_extension": ".py",
   "mimetype": "text/x-python",
   "name": "python",
   "nbconvert_exporter": "python",
   "pygments_lexer": "ipython3",
   "version": "3.6.2"
  },
  "varInspector": {
   "cols": {
    "lenName": 16,
    "lenType": 16,
    "lenVar": 40
   },
   "kernels_config": {
    "python": {
     "delete_cmd_postfix": "",
     "delete_cmd_prefix": "del ",
     "library": "var_list.py",
     "varRefreshCmd": "print(var_dic_list())"
    },
    "r": {
     "delete_cmd_postfix": ") ",
     "delete_cmd_prefix": "rm(",
     "library": "var_list.r",
     "varRefreshCmd": "cat(var_dic_list()) "
    }
   },
   "types_to_exclude": [
    "module",
    "function",
    "builtin_function_or_method",
    "instance",
    "_Feature"
   ],
   "window_display": false
  }
 },
 "nbformat": 4,
 "nbformat_minor": 2
}
