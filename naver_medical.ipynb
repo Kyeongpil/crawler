{
 "cells": [
  {
   "cell_type": "code",
   "execution_count": 36,
   "metadata": {
    "ExecuteTime": {
     "end_time": "2017-09-08T05:37:52.250203Z",
     "start_time": "2017-09-08T05:37:52.246686Z"
    },
    "collapsed": true
   },
   "outputs": [],
   "source": [
    "from bs4 import BeautifulSoup\n",
    "import ujson as json\n",
    "import requests"
   ]
  },
  {
   "cell_type": "code",
   "execution_count": 57,
   "metadata": {
    "ExecuteTime": {
     "end_time": "2017-09-08T06:17:30.336249Z",
     "start_time": "2017-09-08T06:12:09.229632Z"
    },
    "scrolled": true
   },
   "outputs": [
    {
     "name": "stdout",
     "output_type": "stream",
     "text": [
      "1\n",
      "2\n",
      "3\n",
      "4\n",
      "5\n",
      "6\n",
      "7\n",
      "8\n",
      "9\n",
      "10\n",
      "11\n",
      "12\n",
      "13\n",
      "14\n",
      "15\n",
      "16\n",
      "17\n",
      "18\n",
      "19\n",
      "20\n",
      "21\n",
      "22\n",
      "23\n",
      "24\n",
      "25\n",
      "26\n",
      "27\n",
      "28\n",
      "29\n",
      "30\n",
      "31\n",
      "32\n",
      "33\n",
      "34\n",
      "35\n",
      "36\n",
      "37\n",
      "38\n",
      "39\n",
      "40\n",
      "41\n",
      "42\n",
      "43\n",
      "44\n",
      "45\n",
      "46\n",
      "47\n",
      "48\n",
      "49\n",
      "50\n",
      "51\n",
      "52\n",
      "53\n",
      "54\n",
      "55\n",
      "56\n",
      "57\n",
      "58\n",
      "59\n",
      "60\n",
      "61\n",
      "62\n",
      "63\n",
      "64\n",
      "65\n",
      "66\n",
      "67\n",
      "68\n",
      "69\n",
      "70\n",
      "71\n",
      "72\n",
      "73\n",
      "74\n",
      "75\n",
      "76\n",
      "77\n",
      "78\n",
      "79\n",
      "80\n",
      "81\n",
      "82\n",
      "83\n",
      "84\n",
      "85\n",
      "86\n",
      "87\n",
      "88\n",
      "89\n",
      "90\n",
      "91\n"
     ]
    }
   ],
   "source": [
    "list_url = \"http://terms.naver.com/list.nhn?cid=51007&page=%d&categoryId=51007\"\n",
    "mobile_root = \"http://m.terms.naver.com\"\n",
    "entries = []\n",
    "\n",
    "page = 1\n",
    "while True:\n",
    "    print(page)\n",
    "    \n",
    "    res = requests.get(list_url%page)\n",
    "    b = BeautifulSoup(res.text, 'lxml')\n",
    "    \n",
    "    current_page = int(b.find('div', {'class': 'paginate'}).find('strong').text)\n",
    "    if page > current_page:\n",
    "        # stop if there is no more pages to crawl\n",
    "        break\n",
    "    \n",
    "    for entry in b.find('ul', {'class': 'content_list'}).findAll('li'):\n",
    "        url = entry.findAll('a')[0]['href']\n",
    "        res = requests.get(mobile_root+url)\n",
    "        b = BeautifulSoup(res.text, 'lxml')\n",
    "        \n",
    "        entry = dict()\n",
    "        title = None\n",
    "\n",
    "        div_content = b.find('div', {'class': '_SLOG_TERMS_CONTENT'})\n",
    "        additional_info = div_content.find('ul', {'class': 'na_property_table2'})\n",
    "        if additional_info is not None:\n",
    "            for li in additional_info.findAll('li'):\n",
    "                entry[li.find('em').text] = li.find('span').text\n",
    "\n",
    "        div_content = div_content.findAll('div', {'class': 'atomic-block'})\n",
    "        title_group = div_content[0].find('div', {'class': 'na_title_group'})\n",
    "        entry['ko_name'] = title_group.find('h1').text\n",
    "        try:\n",
    "            entry['name'] = title_group.find('p').text.replace('\\xa0', ' ')\n",
    "        except:\n",
    "            pass\n",
    "        \n",
    "        abstract = div_content[0].find('div', {'class': 'na_abstract'})\n",
    "        if abstract is not None:\n",
    "            abstract.find('strong').extract()\n",
    "            entry['abstract'] = abstract.text.strip()\n",
    "            \n",
    "        for div in div_content[1:]:\n",
    "            if \"breakable-block\" in div['class']:\n",
    "                entry[title] = div.text.strip()\n",
    "            else:\n",
    "                title = div.findChild()\n",
    "                if 'na_section_title' in title['class']:\n",
    "                    title = div.text\n",
    "                else:\n",
    "                    # picture div\n",
    "                    continue\n",
    "                \n",
    "        entries.append(entry)\n",
    "\n",
    "    page += 1"
   ]
  },
  {
   "cell_type": "code",
   "execution_count": 58,
   "metadata": {
    "ExecuteTime": {
     "end_time": "2017-09-08T06:17:43.780636Z",
     "start_time": "2017-09-08T06:17:43.713303Z"
    },
    "collapsed": true
   },
   "outputs": [],
   "source": [
    "with open('result.json', 'w') as f:\n",
    "    json.dump(entries, f)"
   ]
  },
  {
   "cell_type": "code",
   "execution_count": 59,
   "metadata": {
    "ExecuteTime": {
     "end_time": "2017-09-08T06:17:51.270502Z",
     "start_time": "2017-09-08T06:17:51.265246Z"
    }
   },
   "outputs": [
    {
     "data": {
      "text/plain": [
       "{'abstract': '사람 몸의 등뼈 부근에 있는 신경절에 잠복상태로 있던 수두 바이러스가 다시 활성화되면서 발생하는 질병',\n",
       " 'ko_name': '대상포진',\n",
       " 'name': 'herpes zoster',\n",
       " '검사': '수포를 면봉으로 긁어서 대상포진 바이러스에 감염된 특징적인 인체세포 모양이 관찰되면 대상포진을 의심할 수 있고, 수포액을 세포 배양하여 바이러스를 검출하여 이를 확인할 수 있다. 바이러스의 핵산을 검출하는 중합효소연쇄반응(PCR; polymerase chain reaction)도 임상에서 사용되고 있다. 이러한 검사들은 일반적인 환자들에서는 검사 비용에 비해 그 유용성이 적기 때문에 잘 시행하지 않지만, 입원환자의 경우에는 검사가 필요할 수 있다.',\n",
       " '경과/합병증': '면역억제환자에서는 대상포진이 지각신경이 분포하는 부위에 국한되지 않고 전신의 피부에 나타나기도 하며, 뇌수막염이나 뇌염으로 진행하거나 간염이나 폐렴을 일으켜 사망에 이르는 경우도 있다. 증상이 좋아지더라도 바이러스는 잠복상태로 몸 속에 계속 존재하기 때문에 바이러스가 재활성화 되면 다시 대상포진이 발생할 수 있다.',\n",
       " '관련 신체기관': '피부, 신경계',\n",
       " '관련 증상': '농포, 소수포, 작열감, 홍반, 수포',\n",
       " '원인': '그러나 신체의 면역력이 약해지면 신경절에 잠복해 있던 수두 바이러스가 신경을 타고 다시 피부로 내려와 그 곳에서 염증을 일으키거나, 심하면 염증이 전신으로 퍼질 수도 있다. 이러한 증상의 원인이 되는 바이러스는 수두 바이러스와 동일하지만 이 경우에는 대상포진 바이러스라고 부른다. 수두-대상포진 바이러스라고 묶어서 부르기도 한다.',\n",
       " '정의': '* 발병위치 : 피부, 신경계',\n",
       " '증상': '수포는 10∼14일 동안 변화하는데, 고름이 차면서 탁해지다가 딱지로 변하게 된다. 접촉 등에 의해 물집이 터지면 궤양이 형성될 수 있다. 보통 2주 정도 지나면 딱지가 생기면서 증상이 좋아진다. 피부의 병적인 증상이 모두 좋아진 후에도 해당 부위가 계속 아프기도 하는데, 이러한 대상포진성 통증은 노인 환자의 약 30%에서 나타나고 마약성 진통제를 사용해야 할 정도로 통증이 심한 경우도 있다.',\n",
       " '진단': '대상포진은 피부에 나타나는 병적인 변화가 매우 특징적이므로 증상을 관찰하여 임상적으로 진단할 수 있다. 그러나 면역억제 환자에서는 피부의 병적인 변화가 특징적이지 않을 수 있고 정상인에서도 그 모양이 전형적인 형태로 나타나지 않는 경우가 있는데, 이때는 진단이 늦어질 수 있다. 대상포진 바이러스를 배양해서 진단할 수도 있다.',\n",
       " '진료과': '감염내과, 피부과, 마취통증의학과',\n",
       " '치료': '항바이러스 치료제로 치료한다.'}"
      ]
     },
     "execution_count": 59,
     "metadata": {},
     "output_type": "execute_result"
    }
   ],
   "source": [
    "entries[0]"
   ]
  },
  {
   "cell_type": "code",
   "execution_count": 60,
   "metadata": {
    "ExecuteTime": {
     "end_time": "2017-09-08T06:18:00.838407Z",
     "start_time": "2017-09-08T06:18:00.833558Z"
    }
   },
   "outputs": [
    {
     "data": {
      "text/plain": [
       "1344"
      ]
     },
     "execution_count": 60,
     "metadata": {},
     "output_type": "execute_result"
    }
   ],
   "source": [
    "len(entries)"
   ]
  },
  {
   "cell_type": "code",
   "execution_count": null,
   "metadata": {
    "collapsed": true
   },
   "outputs": [],
   "source": []
  }
 ],
 "metadata": {
  "kernelspec": {
   "display_name": "Python 3",
   "language": "python",
   "name": "python3"
  },
  "language_info": {
   "codemirror_mode": {
    "name": "ipython",
    "version": 3
   },
   "file_extension": ".py",
   "mimetype": "text/x-python",
   "name": "python",
   "nbconvert_exporter": "python",
   "pygments_lexer": "ipython3",
   "version": "3.6.2"
  },
  "varInspector": {
   "cols": {
    "lenName": 16,
    "lenType": 16,
    "lenVar": 40
   },
   "kernels_config": {
    "python": {
     "delete_cmd_postfix": "",
     "delete_cmd_prefix": "del ",
     "library": "var_list.py",
     "varRefreshCmd": "print(var_dic_list())"
    },
    "r": {
     "delete_cmd_postfix": ") ",
     "delete_cmd_prefix": "rm(",
     "library": "var_list.r",
     "varRefreshCmd": "cat(var_dic_list()) "
    }
   },
   "types_to_exclude": [
    "module",
    "function",
    "builtin_function_or_method",
    "instance",
    "_Feature"
   ],
   "window_display": false
  }
 },
 "nbformat": 4,
 "nbformat_minor": 2
}
